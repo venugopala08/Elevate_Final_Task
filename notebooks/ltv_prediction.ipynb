{
 "cells": [
  {
   "cell_type": "markdown",
   "id": "1087aa73",
   "metadata": {},
   "source": [
    "# 📊 Customer Lifetime Value Prediction\n",
    "This notebook builds a regression model to predict Customer LTV based on transaction data."
   ]
  },
  {
   "cell_type": "code",
   "execution_count": null,
   "id": "01a62876",
   "metadata": {},
   "outputs": [],
   "source": [
    "# 📦 Import Libraries\n",
    "import pandas as pd\n",
    "import numpy as np\n",
    "import matplotlib.pyplot as plt\n",
    "import seaborn as sns\n",
    "\n",
    "from sklearn.model_selection import train_test_split\n",
    "from sklearn.metrics import mean_absolute_error, mean_squared_error\n",
    "from xgboost import XGBRegressor\n",
    "import pickle\n"
   ]
  },
  {
   "cell_type": "code",
   "execution_count": null,
   "id": "ab81ff50",
   "metadata": {},
   "outputs": [],
   "source": [
    "# 📁 Load Dataset\n",
    "df = pd.read_csv('../data/ecommerce_data.csv')\n",
    "df.head()\n"
   ]
  },
  {
   "cell_type": "code",
   "execution_count": null,
   "id": "77356ec7",
   "metadata": {},
   "outputs": [],
   "source": [
    "# 🧹 Data Cleaning\n",
    "df.dropna(subset=['CustomerID'], inplace=True)\n",
    "df['InvoiceDate'] = pd.to_datetime(df['InvoiceDate'])\n",
    "df['TotalAmount'] = df['Quantity'] * df['UnitPrice']\n"
   ]
  },
  {
   "cell_type": "code",
   "execution_count": null,
   "id": "7ae2e457",
   "metadata": {},
   "outputs": [],
   "source": [
    "# 🛠️ Feature Engineering (RFM)\n",
    "snapshot_date = df['InvoiceDate'].max() + pd.Timedelta(days=1)\n",
    "\n",
    "rfm = df.groupby('CustomerID').agg({\n",
    "    'InvoiceDate': lambda x: (snapshot_date - x.max()).days,\n",
    "    'InvoiceNo': 'nunique',\n",
    "    'TotalAmount': 'sum'\n",
    "}).reset_index()\n",
    "\n",
    "rfm.columns = ['CustomerID', 'Recency', 'Frequency', 'Monetary']\n",
    "rfm['AOV'] = rfm['Monetary'] / rfm['Frequency']\n"
   ]
  },
  {
   "cell_type": "code",
   "execution_count": null,
   "id": "f01bdea3",
   "metadata": {},
   "outputs": [],
   "source": [
    "# 🤖 Model Training with XGBoost\n",
    "X = rfm[['Recency', 'Frequency', 'AOV']]\n",
    "y = rfm['Monetary']\n",
    "\n",
    "X_train, X_test, y_train, y_test = train_test_split(X, y, test_size=0.2, random_state=42)\n",
    "\n",
    "model = XGBRegressor(objective='reg:squarederror', random_state=42)\n",
    "model.fit(X_train, y_train)\n"
   ]
  },
  {
   "cell_type": "code",
   "execution_count": null,
   "id": "9a1a7aec",
   "metadata": {},
   "outputs": [],
   "source": [
    "# 📈 Evaluation\n",
    "y_pred = model.predict(X_test)\n",
    "mae = mean_absolute_error(y_test, y_pred)\n",
    "rmse = np.sqrt(mean_squared_error(y_test, y_pred))\n",
    "\n",
    "print(\"MAE:\", mae)\n",
    "print(\"RMSE:\", rmse)\n"
   ]
  },
  {
   "cell_type": "code",
   "execution_count": null,
   "id": "a56e5435",
   "metadata": {},
   "outputs": [],
   "source": [
    "# 💾 Save Model and Predictions\n",
    "with open('../models/ltv_model.pkl', 'wb') as f:\n",
    "    pickle.dump(model, f)\n",
    "\n",
    "rfm['Predicted_LTV'] = model.predict(X)\n",
    "rfm.to_csv('../output/predicted_ltv.csv', index=False)\n",
    "rfm.head()\n"
   ]
  },
  {
   "cell_type": "code",
   "execution_count": null,
   "id": "928ff801",
   "metadata": {},
   "outputs": [],
   "source": [
    "# 📦 Import Libraries\n",
    "import pandas as pd\n",
    "import numpy as np\n",
    "import matplotlib.pyplot as plt\n",
    "import seaborn as sns\n",
    "import os\n",
    "import pickle\n",
    "\n",
    "from sklearn.model_selection import train_test_split\n",
    "from sklearn.metrics import mean_absolute_error, mean_squared_error\n",
    "from xgboost import XGBRegressor\n",
    "\n",
    "# 📁 Load Dataset\n",
    "df = pd.read_csv(\"Online-Retail.csv\")\n",
    "\n",
    "# 🧹 Data Cleaning\n",
    "df = df.dropna(subset=['CustomerID'])  # remove rows without customer ID\n",
    "df['InvoiceDate'] = pd.to_datetime(df['InvoiceDate'], errors='coerce')\n",
    "df = df.dropna(subset=['InvoiceDate'])\n",
    "df['Quantity'] = pd.to_numeric(df['Quantity'], errors='coerce')\n",
    "df['UnitPrice'] = pd.to_numeric(df['UnitPrice'], errors='coerce')\n",
    "df = df.dropna(subset=['Quantity', 'UnitPrice'])\n",
    "df['TotalAmount'] = df['Quantity'] * df['UnitPrice']\n",
    "df = df[df['TotalAmount'] > 0]  # keep only positive sales\n",
    "\n",
    "# 📆 Reference Date for Recency Calculation\n",
    "snapshot_date = df['InvoiceDate'].max() + pd.Timedelta(days=1)\n",
    "\n",
    "# 📊 RFM Feature Engineering\n",
    "rfm = df.groupby('CustomerID').agg({\n",
    "    'InvoiceDate': lambda x: (snapshot_date - x.max()).days,  # Recency\n",
    "    'InvoiceNo': 'nunique',                                   # Frequency\n",
    "    'TotalAmount': 'sum'                                      # Monetary\n",
    "}).reset_index()\n",
    "\n",
    "# Rename columns and calculate AOV\n",
    "rfm.columns = ['CustomerID', 'Recency', 'Frequency', 'Monetary']\n",
    "rfm['AOV'] = rfm['Monetary'] / rfm['Frequency']\n",
    "\n",
    "# ✅ Print feature table\n",
    "print(rfm.head())\n",
    "\n",
    "# 🤖 Model Training with XGBoost\n",
    "X = rfm[['Recency', 'Frequency', 'AOV']]\n",
    "y = rfm['Monetary']\n",
    "\n",
    "X_train, X_test, y_train, y_test = train_test_split(X, y, test_size=0.2, random_state=42)\n",
    "\n",
    "model = XGBRegressor(objective='reg:squarederror', random_state=42)\n",
    "model.fit(X_train, y_train)\n",
    "\n",
    "# 📈 Evaluation\n",
    "y_pred = model.predict(X_test)\n",
    "mae = mean_absolute_error(y_test, y_pred)\n",
    "rmse = np.sqrt(mean_squared_error(y_test, y_pred))\n",
    "\n",
    "print(\"Model Evaluation:\")\n",
    "print(\"MAE:\", round(mae, 2))\n",
    "print(\"RMSE:\", round(rmse, 2))\n",
    "\n",
    "# 💾 Save Model and Predictions\n",
    "os.makedirs('models', exist_ok=True)\n",
    "os.makedirs('output', exist_ok=True)\n",
    "\n",
    "with open('models/ltv_model.pkl', 'wb') as f:\n",
    "    pickle.dump(model, f)\n",
    "\n",
    "# Add prediction column to RFM\n",
    "rfm['Predicted_LTV'] = model.predict(X)\n",
    "\n",
    "# Export predictions to CSV\n",
    "rfm.to_csv('output/predicted_ltv.csv', index=False)\n",
    "\n",
    "# 📊 Optional Visualization\n",
    "plt.figure(figsize=(8,5))\n",
    "sns.histplot(rfm['Predicted_LTV'], bins=30, kde=True)\n",
    "plt.title(\"Predicted LTV Distribution\")\n",
    "plt.xlabel(\"Predicted LTV\")\n",
    "plt.ylabel(\"Customer Count\")\n",
    "plt.tight_layout()\n",
    "plt.show()\n"
   ]
  },
  {
   "cell_type": "markdown",
   "id": "3bda53c2",
   "metadata": {},
   "source": []
  }
 ],
 "metadata": {
  "language_info": {
   "name": "python"
  }
 },
 "nbformat": 4,
 "nbformat_minor": 5
}
